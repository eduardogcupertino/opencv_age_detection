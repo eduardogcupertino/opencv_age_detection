{
 "cells": [
  {
   "cell_type": "code",
   "execution_count": 1,
   "metadata": {},
   "outputs": [],
   "source": [
    "# import the necessary packages\n",
    "from imutils.video import VideoStream\n",
    "import numpy as np\n",
    "import argparse\n",
    "import imutils\n",
    "import time\n",
    "import cv2\n",
    "import os"
   ]
  },
  {
   "cell_type": "code",
   "execution_count": 2,
   "metadata": {},
   "outputs": [],
   "source": [
    "def detect_and_predict_age(frame, faceNet, ageNet, minConf=0.5):\n",
    "\t# define the list of age buckets our age detector will predict\n",
    "\tAGE_BUCKETS = [\"(0-2)\", \"(4-6)\", \"(8-12)\", \"(15-20)\", \"(20-24)\", \"(25-32)\",\n",
    "\t\t\"(38-43)\", \"(48-53)\", \"(60-100)\"]\n",
    "\n",
    "\t# initialize our results list\n",
    "\tresults = []\n",
    "\n",
    "\t# grab the dimensions of the frame and then construct a blob\n",
    "\t# from it\n",
    "\t(h, w) = frame.shape[:2]\n",
    "\tblob = cv2.dnn.blobFromImage(frame, 1.0, (300, 300),\n",
    "\t\t(104.0, 177.0, 123.0))\n",
    "\n",
    "\t# pass the blob through the network and obtain the face detections\n",
    "\tfaceNet.setInput(blob)\n",
    "\tdetections = faceNet.forward()\n",
    "\n",
    "\t# loop over the detections\n",
    "\tfor i in range(0, detections.shape[2]):\n",
    "\t\t# extract the confidence (i.e., probability) associated with\n",
    "\t\t# the prediction\n",
    "\t\tconfidence = detections[0, 0, i, 2]\n",
    "\n",
    "\t\t# filter out weak detections by ensuring the confidence is\n",
    "\t\t# greater than the minimum confidence\n",
    "\t\tif confidence > minConf:\n",
    "\t\t\t# compute the (x, y)-coordinates of the bounding box for\n",
    "\t\t\t# the object\n",
    "\t\t\tbox = detections[0, 0, i, 3:7] * np.array([w, h, w, h])\n",
    "\t\t\t(startX, startY, endX, endY) = box.astype(\"int\")\n",
    "\n",
    "\t\t\t# extract the ROI of the face\n",
    "\t\t\tface = frame[startY:endY, startX:endX]\n",
    "\n",
    "\t\t\t# ensure the face ROI is sufficiently large\n",
    "\t\t\tif face.shape[0] < 20 or face.shape[1] < 20:\n",
    "\t\t\t\tcontinue\n",
    "\n",
    "\t\t\t# construct a blob from *just* the face ROI\n",
    "\t\t\tfaceBlob = cv2.dnn.blobFromImage(face, 1.0, (227, 227),\n",
    "\t\t\t\t(78.4263377603, 87.7689143744, 114.895847746),\n",
    "\t\t\t\tswapRB=False)\n",
    "\n",
    "\t\t\t# make predictions on the age and find the age bucket with\n",
    "\t\t\t# the largest corresponding probability\n",
    "\t\t\tageNet.setInput(faceBlob)\n",
    "\t\t\tpreds = ageNet.forward()\n",
    "\t\t\ti = preds[0].argmax()\n",
    "\t\t\tage = AGE_BUCKETS[i]\n",
    "\t\t\tageConfidence = preds[0][i]\n",
    "\n",
    "\t\t\t# construct a dictionary consisting of both the face\n",
    "\t\t\t# bounding box location along with the age prediction,\n",
    "\t\t\t# then update our results list\n",
    "\t\t\td = {\n",
    "\t\t\t\t\"loc\": (startX, startY, endX, endY),\n",
    "\t\t\t\t\"age\": (age, ageConfidence)\n",
    "\t\t\t}\n",
    "\t\t\tresults.append(d)\n",
    "\n",
    "\t# return our results to the calling function\n",
    "\treturn results"
   ]
  },
  {
   "cell_type": "code",
   "execution_count": 3,
   "metadata": {},
   "outputs": [
    {
     "name": "stdout",
     "output_type": "stream",
     "text": [
      "[INFO] loading face detector model...\n",
      "[INFO] loading age detector model...\n",
      "[INFO] starting video stream...\n"
     ]
    }
   ],
   "source": [
    "# load our serialized face detector model from disk\n",
    "print(\"[INFO] loading face detector model...\")\n",
    "prototxtPath = \"C:/Users/gamac/Desktop/Projects/opencv-age-detection/face_detector/deploy.prototxt\"\n",
    "weightsPath = \"C:/Users/gamac/Desktop/Projects/opencv-age-detection/face_detector/res10_300x300_ssd_iter_140000.caffemodel\"\n",
    "faceNet = cv2.dnn.readNet(prototxtPath, weightsPath)\n",
    "\n",
    "# load our serialized age detector model from disk\n",
    "print(\"[INFO] loading age detector model...\")\n",
    "prototxtPath = \"C:/Users/gamac/Desktop/Projects/opencv-age-detection/age_detector/age_deploy.prototxt\"\n",
    "weightsPath = \"C:/Users/gamac/Desktop/Projects/opencv-age-detection/age_detector/age_net.caffemodel\"\n",
    "ageNet = cv2.dnn.readNet(prototxtPath, weightsPath)\n",
    "\n",
    "# initialize the video stream and allow the camera sensor to warm up\n",
    "print(\"[INFO] starting video stream...\")\n",
    "vs = VideoStream(src=0).start()\n",
    "time.sleep(2.0)"
   ]
  },
  {
   "cell_type": "code",
   "execution_count": null,
   "metadata": {},
   "outputs": [],
   "source": [
    "# loop over the frames from the video stream\n",
    "while True:\n",
    "\t# grab the frame from the threaded video stream and resize it\n",
    "\t# to have a maximum width of 400 pixels\n",
    "\tframe = vs.read()\n",
    "\tframe = imutils.resize(frame, width=800)\n",
    "\n",
    "\t# detect faces in the frame, and for each face in the frame,\n",
    "\t# predict the age\n",
    "\tresults = detect_and_predict_age(frame, faceNet, ageNet, minConf=0.6)\n",
    "\n",
    "\t# loop over the results\n",
    "\tfor r in results:\n",
    "\t\t# draw the bounding box of the face along with the associated\n",
    "\t\t# predicted age\n",
    "\t\ttext = \"{}: {:.2f}%\".format(r[\"age\"][0], r[\"age\"][1] * 100)\n",
    "\t\t(startX, startY, endX, endY) = r[\"loc\"]\n",
    "\t\ty = startY - 10 if startY - 10 > 10 else startY + 10\n",
    "\t\tcv2.rectangle(frame, (startX, startY), (endX, endY),\n",
    "\t\t\t(0, 0, 255), 2)\n",
    "\t\tcv2.putText(frame, text, (startX, y),\n",
    "\t\t\tcv2.FONT_HERSHEY_SIMPLEX, 0.45, (0, 0, 255), 2)\n",
    "\n",
    "\t# show the output frame\n",
    "\tcv2.imshow(\"Frame\", frame)\n",
    "\tkey = cv2.waitKey(1) & 0xFF\n",
    "\n",
    "\t# if the `q` key was pressed, break from the loop\n",
    "\tif key == ord(\"q\"):\n",
    "\t\tbreak\n",
    "\t\t\n",
    "# do a bit of cleanup\n",
    "cv2.destroyAllWindows()\n",
    "vs.stop()"
   ]
  },
  {
   "cell_type": "code",
   "execution_count": null,
   "metadata": {},
   "outputs": [],
   "source": [
    "# do a bit of cleanup\n",
    "cv2.destroyAllWindows()\n",
    "vs.stop()"
   ]
  },
  {
   "cell_type": "code",
   "execution_count": null,
   "metadata": {},
   "outputs": [],
   "source": []
  }
 ],
 "metadata": {
  "kernelspec": {
   "display_name": "Python 3",
   "language": "python",
   "name": "python3"
  },
  "language_info": {
   "codemirror_mode": {
    "name": "ipython",
    "version": 3
   },
   "file_extension": ".py",
   "mimetype": "text/x-python",
   "name": "python",
   "nbconvert_exporter": "python",
   "pygments_lexer": "ipython3",
   "version": "3.8.3"
  }
 },
 "nbformat": 4,
 "nbformat_minor": 4
}
